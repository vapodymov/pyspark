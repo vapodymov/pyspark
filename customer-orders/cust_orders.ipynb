{
 "cells": [
  {
   "cell_type": "markdown",
   "metadata": {},
   "source": [
    "# Find the amount spent by each customer\n",
    "\n",
    "Data Dictionary: CustomerID, ItemID, DollarAmount"
   ]
  },
  {
   "cell_type": "code",
   "execution_count": 1,
   "metadata": {},
   "outputs": [
    {
     "data": {
      "text/plain": [
       "'c:\\\\spark'"
      ]
     },
     "execution_count": 1,
     "metadata": {},
     "output_type": "execute_result"
    }
   ],
   "source": [
    "import findspark\n",
    "findspark.init()\n",
    "\n",
    "import pyspark\n",
    "findspark.find()"
   ]
  },
  {
   "cell_type": "code",
   "execution_count": 2,
   "metadata": {},
   "outputs": [],
   "source": [
    "from pyspark import SparkContext, SparkConf\n",
    "from pyspark.sql import SparkSession\n",
    "import collections\n",
    "\n",
    "conf = pyspark.SparkConf().setAppName('CustomerOrders').setMaster('local')\n",
    "sc = pyspark.SparkContext(conf=conf)\n",
    "spark = SparkSession(sc)"
   ]
  },
  {
   "cell_type": "code",
   "execution_count": 3,
   "metadata": {},
   "outputs": [],
   "source": [
    "def parseLine(line):\n",
    "    fields = line.split(',')\n",
    "    CustomerID = int(fields[0])\n",
    "    AmountSpent = float(fields[2])\n",
    "    return (CustomerID, AmountSpent)"
   ]
  },
  {
   "cell_type": "code",
   "execution_count": 7,
   "metadata": {},
   "outputs": [
    {
     "name": "stdout",
     "output_type": "stream",
     "text": [
      "(45, 3309.38)\n",
      "(79, 3790.570000000001)\n",
      "(96, 3924.230000000001)\n",
      "(23, 4042.6499999999987)\n",
      "(99, 4172.289999999998)\n",
      "(75, 4178.500000000001)\n",
      "(36, 4278.049999999997)\n",
      "(98, 4297.260000000001)\n",
      "(47, 4316.299999999999)\n",
      "(77, 4327.729999999999)\n",
      "(13, 4367.62)\n",
      "(48, 4384.33)\n",
      "(49, 4394.599999999999)\n",
      "(94, 4475.569999999999)\n",
      "(67, 4505.79)\n",
      "(50, 4517.27)\n",
      "(78, 4524.509999999999)\n",
      "(5, 4561.069999999999)\n",
      "(57, 4628.4)\n",
      "(83, 4635.799999999997)\n",
      "(91, 4642.259999999999)\n",
      "(74, 4647.129999999999)\n",
      "(84, 4652.939999999999)\n",
      "(3, 4659.63)\n",
      "(12, 4664.589999999998)\n",
      "(66, 4681.919999999999)\n",
      "(56, 4701.019999999999)\n",
      "(21, 4707.41)\n",
      "(80, 4727.860000000001)\n",
      "(14, 4735.030000000001)\n",
      "(37, 4735.200000000002)\n",
      "(7, 4755.070000000001)\n",
      "(44, 4756.8899999999985)\n",
      "(31, 4765.05)\n",
      "(82, 4812.489999999998)\n",
      "(4, 4815.050000000002)\n",
      "(10, 4819.700000000001)\n",
      "(88, 4830.549999999999)\n",
      "(20, 4836.859999999999)\n",
      "(89, 4851.479999999999)\n",
      "(95, 4876.840000000002)\n",
      "(38, 4898.460000000002)\n",
      "(76, 4904.209999999999)\n",
      "(86, 4908.81)\n",
      "(27, 4915.889999999999)\n",
      "(18, 4921.27)\n",
      "(53, 4945.299999999999)\n",
      "(1, 4958.600000000001)\n",
      "(51, 4975.22)\n",
      "(16, 4979.06)\n",
      "(30, 4990.72)\n",
      "(28, 5000.709999999998)\n",
      "(22, 5019.449999999999)\n",
      "(29, 5032.529999999999)\n",
      "(17, 5032.679999999999)\n",
      "(60, 5040.709999999999)\n",
      "(25, 5057.610000000001)\n",
      "(19, 5059.4299999999985)\n",
      "(81, 5112.709999999999)\n",
      "(69, 5123.010000000001)\n",
      "(65, 5140.3499999999985)\n",
      "(11, 5152.290000000002)\n",
      "(35, 5155.419999999999)\n",
      "(40, 5186.429999999999)\n",
      "(87, 5206.4)\n",
      "(52, 5245.059999999999)\n",
      "(26, 5250.4)\n",
      "(62, 5253.3200000000015)\n",
      "(33, 5254.659999999998)\n",
      "(24, 5259.920000000003)\n",
      "(93, 5265.750000000001)\n",
      "(64, 5288.689999999996)\n",
      "(90, 5290.409999999998)\n",
      "(55, 5298.090000000002)\n",
      "(9, 5322.649999999999)\n",
      "(34, 5330.8)\n",
      "(72, 5337.44)\n",
      "(70, 5368.249999999999)\n",
      "(43, 5368.83)\n",
      "(92, 5379.280000000002)\n",
      "(6, 5397.879999999998)\n",
      "(15, 5413.510000000001)\n",
      "(63, 5415.150000000001)\n",
      "(58, 5437.7300000000005)\n",
      "(32, 5496.050000000004)\n",
      "(61, 5497.479999999998)\n",
      "(85, 5503.43)\n",
      "(8, 5517.240000000001)\n",
      "(0, 5524.949999999998)\n",
      "(41, 5637.62)\n",
      "(59, 5642.89)\n",
      "(42, 5696.840000000003)\n",
      "(46, 5963.109999999999)\n",
      "(97, 5977.189999999995)\n",
      "(2, 5994.59)\n",
      "(71, 5995.660000000003)\n",
      "(54, 6065.389999999999)\n",
      "(39, 6193.109999999999)\n",
      "(73, 6206.199999999999)\n",
      "(68, 6375.449999999997)\n"
     ]
    }
   ],
   "source": [
    "lines = sc.textFile(\"customer-orders.csv\")\n",
    "\n",
    "rdd = lines.map(parseLine)\n",
    "\n",
    "### here we map values only, keys are not touched\n",
    "AmountByCustomer = rdd.reduceByKey(lambda x, y: x + y)\n",
    "results_sorted = AmountByCustomer.sortBy(lambda x: x[1]).collect()\n",
    "\n",
    "for result in results_sorted:\n",
    "    print(result)"
   ]
  },
  {
   "cell_type": "code",
   "execution_count": null,
   "metadata": {},
   "outputs": [],
   "source": []
  }
 ],
 "metadata": {
  "kernelspec": {
   "display_name": "Python 3",
   "language": "python",
   "name": "python3"
  },
  "language_info": {
   "codemirror_mode": {
    "name": "ipython",
    "version": 3
   },
   "file_extension": ".py",
   "mimetype": "text/x-python",
   "name": "python",
   "nbconvert_exporter": "python",
   "pygments_lexer": "ipython3",
   "version": "3.6.9"
  }
 },
 "nbformat": 4,
 "nbformat_minor": 4
}
