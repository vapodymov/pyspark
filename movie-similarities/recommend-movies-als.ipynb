{
 "cells": [
  {
   "cell_type": "markdown",
   "metadata": {},
   "source": [
    "# Movie Recommendations using MLib (Alternate Least Squares)"
   ]
  },
  {
   "cell_type": "code",
   "execution_count": 1,
   "metadata": {},
   "outputs": [
    {
     "data": {
      "text/plain": [
       "'c:\\\\spark'"
      ]
     },
     "execution_count": 1,
     "metadata": {},
     "output_type": "execute_result"
    }
   ],
   "source": [
    "import findspark\n",
    "findspark.init()\n",
    "\n",
    "import pyspark\n",
    "findspark.find()"
   ]
  },
  {
   "cell_type": "code",
   "execution_count": 3,
   "metadata": {},
   "outputs": [],
   "source": [
    "import sys\n",
    "from pyspark import SparkConf, SparkContext\n",
    "from pyspark.mllib.recommendation import ALS, Rating\n",
    "\n",
    "def loadMovieNames():\n",
    "    movieNames = {}\n",
    "    with open(\"u.item\", encoding='ascii', errors=\"ignore\") as f:\n",
    "        for line in f:\n",
    "            fields = line.split('|')\n",
    "            movieNames[int(fields[0])] = fields[1]\n",
    "    return movieNames"
   ]
  },
  {
   "cell_type": "code",
   "execution_count": 4,
   "metadata": {},
   "outputs": [],
   "source": [
    "conf = SparkConf().setMaster(\"local[*]\").setAppName(\"MovieRecommendationsALS\")\n",
    "sc = SparkContext(conf = conf)\n",
    "sc.setCheckpointDir('checkpoint')"
   ]
  },
  {
   "cell_type": "code",
   "execution_count": 7,
   "metadata": {},
   "outputs": [
    {
     "name": "stdout",
     "output_type": "stream",
     "text": [
      "\n",
      "Loading movie names...\n"
     ]
    }
   ],
   "source": [
    "print(\"\\nLoading movie names...\")\n",
    "nameDict = loadMovieNames()\n",
    "\n",
    "data = sc.textFile(\"u.data\")\n",
    "\n",
    "ratings = data.map(lambda x: x.split()).map(lambda x: Rating(int(x[0]), int(x[1]), float(x[2]))).cache()"
   ]
  },
  {
   "cell_type": "code",
   "execution_count": 8,
   "metadata": {},
   "outputs": [
    {
     "name": "stdout",
     "output_type": "stream",
     "text": [
      "\n",
      "Training recommendation model...\n"
     ]
    }
   ],
   "source": [
    "# Build the recommendation model using Alternating Least Squares\n",
    "print(\"\\nTraining recommendation model...\")\n",
    "\n",
    "rank = 10\n",
    "\n",
    "# Lowered numIterations to ensure it works on lower-end systems\n",
    "numIterations = 6\n",
    "model = ALS.train(ratings, rank, numIterations)"
   ]
  },
  {
   "cell_type": "code",
   "execution_count": 11,
   "metadata": {},
   "outputs": [
    {
     "name": "stdout",
     "output_type": "stream",
     "text": [
      "\n",
      "Ratings for user ID 2:\n",
      "Rosewood (1997): 4.0\n",
      "Shall We Dance? (1996): 5.0\n",
      "Star Wars (1977): 5.0\n",
      "3 Ninjas: High Noon At Mega Mountain (1998): 1.0\n",
      "Ulee's Gold (1997): 4.0\n",
      "Fierce Creatures (1997): 3.0\n",
      "Midnight in the Garden of Good and Evil (1997): 3.0\n",
      "River Wild, The (1994): 3.0\n",
      "Mighty Aphrodite (1995): 4.0\n",
      "Up Close and Personal (1996): 3.0\n",
      "Ulee's Gold (1997): 4.0\n",
      "FairyTale: A True Story (1997): 3.0\n",
      "Devil's Advocate, The (1997): 3.0\n",
      "Men in Black (1997): 4.0\n",
      "As Good As It Gets (1997): 5.0\n",
      "Apt Pupil (1998): 1.0\n",
      "In & Out (1997): 4.0\n",
      "Titanic (1997): 5.0\n",
      "Once Upon a Time... When We Were Colored (1995): 4.0\n",
      "Hoodlum (1997): 4.0\n",
      "Face/Off (1997): 3.0\n",
      "Antonia's Line (1995): 3.0\n",
      "Restoration (1995): 4.0\n",
      "Time to Kill, A (1996): 4.0\n",
      "Truth About Cats & Dogs, The (1996): 4.0\n",
      "Contact (1997): 3.0\n",
      "Breakdown (1997): 4.0\n",
      "Kolya (1996): 5.0\n",
      "Emma (1996): 5.0\n",
      "Leaving Las Vegas (1995): 4.0\n",
      "Toy Story (1995): 4.0\n",
      "Ice Storm, The (1997): 3.0\n",
      "Postino, Il (1994): 4.0\n",
      "Marvin's Room (1996): 3.0\n",
      "Absolute Power (1997): 3.0\n",
      "Donnie Brasco (1997): 4.0\n",
      "Liar Liar (1997): 1.0\n",
      "Rainmaker, The (1997): 4.0\n",
      "Deceiver (1997): 1.0\n",
      "Mrs. Brown (Her Majesty, Mrs. Brown) (1997): 4.0\n",
      "Birdcage, The (1996): 4.0\n",
      "Heat (1995): 4.0\n",
      "Richard III (1995): 2.0\n",
      "Wings of the Dove, The (1997): 5.0\n",
      "Full Monty, The (1997): 4.0\n",
      "My Best Friend's Wedding (1997): 4.0\n",
      "Tin Cup (1996): 4.0\n",
      "Sabrina (1995): 3.0\n",
      "Jerry Maguire (1996): 4.0\n",
      "Air Force One (1997): 4.0\n",
      "Fargo (1996): 5.0\n",
      "Godfather, The (1972): 5.0\n",
      "Secrets & Lies (1996): 5.0\n",
      "Evita (1996): 3.0\n",
      "Fly Away Home (1996): 4.0\n",
      "Good Will Hunting (1997): 5.0\n",
      "Bed of Roses (1996): 3.0\n",
      "Scream (1996): 3.0\n",
      "English Patient, The (1996): 4.0\n",
      "Sense and Sensibility (1995): 5.0\n",
      "L.A. Confidential (1997): 5.0\n",
      "Promesse, La (1996): 3.0\n",
      "\n",
      "Top 10 recommendations:\n",
      "Perfect Candidate, A (1996) score 7.070019915219463\n",
      "Misrables, Les (1995) score 6.6523684707029735\n",
      "Shooting Fish (1997) score 6.5216885932742565\n",
      "War Room, The (1993) score 6.429649108869776\n",
      "Farinelli: il castrato (1994) score 6.1932608294885405\n",
      "Bitter Sugar (Azucar Amargo) (1996) score 6.187522682789911\n",
      "Maya Lin: A Strong Clear Vision (1994) score 6.1351156367241835\n",
      "Nnette et Boni (1996) score 6.127612354774813\n",
      "Angel Baby (1995) score 6.048834160206583\n",
      "Horseman on the Roof, The (Hussard sur le toit, Le) (1995) score 6.007345030050561\n"
     ]
    }
   ],
   "source": [
    "### define userID as custom param\n",
    "userID = 2\n",
    "\n",
    "print(\"\\nRatings for user ID \" + str(userID) + \":\")\n",
    "userRatings = ratings.filter(lambda x: x[0] == userID)\n",
    "for rating in userRatings.collect():\n",
    "    print (nameDict[int(rating[1])] + \": \" + str(rating[2]))\n",
    "\n",
    "print(\"\\nTop 10 recommendations:\")\n",
    "recommendations = model.recommendProducts(userID, 10)\n",
    "for recommendation in recommendations:\n",
    "    print (nameDict[int(recommendation[1])] + \\\n",
    "        \" score \" + str(recommendation[2]))"
   ]
  },
  {
   "cell_type": "code",
   "execution_count": null,
   "metadata": {},
   "outputs": [],
   "source": []
  }
 ],
 "metadata": {
  "kernelspec": {
   "display_name": "Python 3",
   "language": "python",
   "name": "python3"
  },
  "language_info": {
   "codemirror_mode": {
    "name": "ipython",
    "version": 3
   },
   "file_extension": ".py",
   "mimetype": "text/x-python",
   "name": "python",
   "nbconvert_exporter": "python",
   "pygments_lexer": "ipython3",
   "version": "3.6.9"
  }
 },
 "nbformat": 4,
 "nbformat_minor": 4
}
